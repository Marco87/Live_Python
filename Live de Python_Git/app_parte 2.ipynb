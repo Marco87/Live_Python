{
 "cells": [
  {
   "cell_type": "markdown",
   "metadata": {},
   "source": [
    "Importando a biblioteca Pandas para as manipulações da base de dados"
   ]
  },
  {
   "cell_type": "code",
   "execution_count": 10,
   "metadata": {},
   "outputs": [],
   "source": [
    "import pandas as pd"
   ]
  },
  {
   "cell_type": "markdown",
   "metadata": {},
   "source": [
    "Carregando o csv hospedado no github, e salvando os dados em um dataframe"
   ]
  },
  {
   "cell_type": "code",
   "execution_count": 11,
   "metadata": {},
   "outputs": [],
   "source": [
    "df = pd.read_csv(\"https://raw.githubusercontent.com/Marco87/Projects/master/Python/Projetos/Live%20de%20Python/df_cotacoes.csv\", sep=\",\")"
   ]
  },
  {
   "cell_type": "markdown",
   "metadata": {},
   "source": [
    "Criando uma nova coluna chamada descricao_maiuscula, com as letras da coluna descricao maiúsculas"
   ]
  },
  {
   "cell_type": "code",
   "execution_count": 12,
   "metadata": {},
   "outputs": [],
   "source": [
    "df['descricao_maiuscula'] = df['descricao'].str.upper()"
   ]
  },
  {
   "cell_type": "markdown",
   "metadata": {},
   "source": [
    "Trocando todas as letras 'A' pelo número '1' na coluna descricao_maiuscula"
   ]
  },
  {
   "cell_type": "code",
   "execution_count": 13,
   "metadata": {},
   "outputs": [],
   "source": [
    "df['descricao_maiuscula'] = df['descricao_maiuscula'].str.replace('A','1')"
   ]
  },
  {
   "cell_type": "markdown",
   "metadata": {},
   "source": [
    "Renomeando a coluna descricao_maiuscula para letras_maiusculas"
   ]
  },
  {
   "cell_type": "code",
   "execution_count": 14,
   "metadata": {},
   "outputs": [],
   "source": [
    "df = df.rename(columns={'descricao_maiuscula':'letras_maiusculas'})"
   ]
  },
  {
   "cell_type": "markdown",
   "metadata": {},
   "source": [
    "Removendo a coluna letras_maiusculas"
   ]
  },
  {
   "cell_type": "code",
   "execution_count": 15,
   "metadata": {},
   "outputs": [],
   "source": [
    "df = df.drop('letras_maiusculas', axis=1)"
   ]
  },
  {
   "cell_type": "markdown",
   "metadata": {},
   "source": [
    "Exibindo os nomes das colunas do dataframe gerado"
   ]
  },
  {
   "cell_type": "code",
   "execution_count": 17,
   "metadata": {},
   "outputs": [
    {
     "name": "stdout",
     "output_type": "stream",
     "text": [
      "Index(['moeda', 'data', 'valor', 'descricao'], dtype='object')\n"
     ]
    }
   ],
   "source": [
    "print(df.columns)"
   ]
  },
  {
   "cell_type": "markdown",
   "metadata": {},
   "source": [
    "Exibindo apenas a coluna moeda"
   ]
  },
  {
   "cell_type": "code",
   "execution_count": 20,
   "metadata": {},
   "outputs": [
    {
     "name": "stdout",
     "output_type": "stream",
     "text": [
      "0       ADA\n",
      "1       AED\n",
      "2       AFN\n",
      "3       ALL\n",
      "4       AMD\n",
      "       ... \n",
      "1095    ZAR\n",
      "1096    ZMK\n",
      "1097    ZMW\n",
      "1098    ZWD\n",
      "1099    ZWL\n",
      "Name: moeda, Length: 1100, dtype: object\n"
     ]
    }
   ],
   "source": [
    "print(df['moeda'])"
   ]
  },
  {
   "cell_type": "markdown",
   "metadata": {},
   "source": [
    "Exibindo o dataframe completo"
   ]
  },
  {
   "cell_type": "code",
   "execution_count": 21,
   "metadata": {},
   "outputs": [
    {
     "name": "stdout",
     "output_type": "stream",
     "text": [
      "     moeda        data         valor                          descricao\n",
      "0      ADA  2023-10-01      3.910902                            Cardano\n",
      "1      AED  2023-10-01      3.672500  Dirham dos Emirados Árabes Unidos\n",
      "2      AFN  2023-10-01     77.962045                     Afegane afegão\n",
      "3      ALL  2023-10-01    100.695090                                Lek\n",
      "4      AMD  2023-10-01    393.399999                     Armenian Drams\n",
      "...    ...         ...           ...                                ...\n",
      "1095   ZAR  2023-10-05     19.524024                  Rand sul-africano\n",
      "1096   ZMK  2023-10-05  21241.562413                    Kwacha zambiano\n",
      "1097   ZMW  2023-10-05     21.241562                    Kwacha zambiano\n",
      "1098   ZWD  2023-10-05    361.900000                  Dólar do Zimbábue\n",
      "1099   ZWL  2023-10-05   5574.999163                  Dólar do Zimbábue\n",
      "\n",
      "[1100 rows x 4 columns]\n"
     ]
    }
   ],
   "source": [
    "print(df)"
   ]
  }
 ],
 "metadata": {
  "kernelspec": {
   "display_name": "Python 3",
   "language": "python",
   "name": "python3"
  },
  "language_info": {
   "codemirror_mode": {
    "name": "ipython",
    "version": 3
   },
   "file_extension": ".py",
   "mimetype": "text/x-python",
   "name": "python",
   "nbconvert_exporter": "python",
   "pygments_lexer": "ipython3",
   "version": "3.10.7"
  }
 },
 "nbformat": 4,
 "nbformat_minor": 2
}
