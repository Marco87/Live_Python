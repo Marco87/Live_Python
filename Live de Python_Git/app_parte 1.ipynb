{
 "cells": [
  {
   "cell_type": "markdown",
   "metadata": {},
   "source": [
    "##### Configurar ambiente virtual (Opcional)\n",
    "Para criar um ambiente virtual, abra o terminal e execute os comandos abaixo:\n",
    "\n",
    "```bash\n",
    "python -m venv .venv # Será criado uma pasta chamada .venv, que será o ambiente virtual\n",
    "\n",
    ".venv\\Scripts\\activate # Realiza a ativação do ambiente virtual (Windows)\n",
    "```"
   ]
  },
  {
   "cell_type": "markdown",
   "metadata": {},
   "source": [
    "##### Para instalar as dependências necessárias rodar o comando abaixo"
   ]
  },
  {
   "cell_type": "code",
   "execution_count": 1,
   "metadata": {},
   "outputs": [
    {
     "name": "stdout",
     "output_type": "stream",
     "text": [
      "Collecting python-dotenv==1.0.0 (from -r credenciais/requirements.txt (line 1))\n",
      "  Downloading python_dotenv-1.0.0-py3-none-any.whl (19 kB)\n",
      "Requirement already satisfied: pandas==2.1.1 in c:\\users\\dell\\appdata\\local\\programs\\python\\python312\\lib\\site-packages (from -r credenciais/requirements.txt (line 2)) (2.1.1)\n",
      "Collecting requests==2.31.0 (from -r credenciais/requirements.txt (line 3))\n",
      "  Obtaining dependency information for requests==2.31.0 from https://files.pythonhosted.org/packages/70/8e/0e2d847013cb52cd35b38c009bb167a1a26b2ce6cd6965bf26b47bc0bf44/requests-2.31.0-py3-none-any.whl.metadata\n",
      "  Downloading requests-2.31.0-py3-none-any.whl.metadata (4.6 kB)\n",
      "Requirement already satisfied: numpy>=1.26.0 in c:\\users\\dell\\appdata\\local\\programs\\python\\python312\\lib\\site-packages (from pandas==2.1.1->-r credenciais/requirements.txt (line 2)) (1.26.0)\n",
      "Requirement already satisfied: python-dateutil>=2.8.2 in c:\\users\\dell\\appdata\\local\\programs\\python\\python312\\lib\\site-packages (from pandas==2.1.1->-r credenciais/requirements.txt (line 2)) (2.8.2)\n",
      "Requirement already satisfied: pytz>=2020.1 in c:\\users\\dell\\appdata\\local\\programs\\python\\python312\\lib\\site-packages (from pandas==2.1.1->-r credenciais/requirements.txt (line 2)) (2023.3.post1)\n",
      "Requirement already satisfied: tzdata>=2022.1 in c:\\users\\dell\\appdata\\local\\programs\\python\\python312\\lib\\site-packages (from pandas==2.1.1->-r credenciais/requirements.txt (line 2)) (2023.3)\n",
      "Collecting charset-normalizer<4,>=2 (from requests==2.31.0->-r credenciais/requirements.txt (line 3))\n",
      "  Obtaining dependency information for charset-normalizer<4,>=2 from https://files.pythonhosted.org/packages/b6/7c/8debebb4f90174074b827c63242c23851bdf00a532489fba57fef3416e40/charset_normalizer-3.3.2-cp312-cp312-win_amd64.whl.metadata\n",
      "  Downloading charset_normalizer-3.3.2-cp312-cp312-win_amd64.whl.metadata (34 kB)\n",
      "Collecting idna<4,>=2.5 (from requests==2.31.0->-r credenciais/requirements.txt (line 3))\n",
      "  Downloading idna-3.4-py3-none-any.whl (61 kB)\n",
      "     ---------------------------------------- 0.0/61.5 kB ? eta -:--:--\n",
      "     ---------------------------------------- 61.5/61.5 kB 3.2 MB/s eta 0:00:00\n",
      "Collecting urllib3<3,>=1.21.1 (from requests==2.31.0->-r credenciais/requirements.txt (line 3))\n",
      "  Obtaining dependency information for urllib3<3,>=1.21.1 from https://files.pythonhosted.org/packages/96/94/c31f58c7a7f470d5665935262ebd7455c7e4c7782eb525658d3dbf4b9403/urllib3-2.1.0-py3-none-any.whl.metadata\n",
      "  Downloading urllib3-2.1.0-py3-none-any.whl.metadata (6.4 kB)\n",
      "Collecting certifi>=2017.4.17 (from requests==2.31.0->-r credenciais/requirements.txt (line 3))\n",
      "  Obtaining dependency information for certifi>=2017.4.17 from https://files.pythonhosted.org/packages/4c/dd/2234eab22353ffc7d94e8d13177aaa050113286e93e7b40eae01fbf7c3d9/certifi-2023.7.22-py3-none-any.whl.metadata\n",
      "  Downloading certifi-2023.7.22-py3-none-any.whl.metadata (2.2 kB)\n",
      "Requirement already satisfied: six>=1.5 in c:\\users\\dell\\appdata\\local\\programs\\python\\python312\\lib\\site-packages (from python-dateutil>=2.8.2->pandas==2.1.1->-r credenciais/requirements.txt (line 2)) (1.16.0)\n",
      "Downloading requests-2.31.0-py3-none-any.whl (62 kB)\n",
      "   ---------------------------------------- 0.0/62.6 kB ? eta -:--:--\n",
      "   ---------------------------------------- 62.6/62.6 kB ? eta 0:00:00\n",
      "Downloading certifi-2023.7.22-py3-none-any.whl (158 kB)\n",
      "   ---------------------------------------- 0.0/158.3 kB ? eta -:--:--\n",
      "   ---------------------------------------- 158.3/158.3 kB 9.9 MB/s eta 0:00:00\n",
      "Downloading charset_normalizer-3.3.2-cp312-cp312-win_amd64.whl (100 kB)\n",
      "   ---------------------------------------- 0.0/100.4 kB ? eta -:--:--\n",
      "   ---------------------------------------- 100.4/100.4 kB ? eta 0:00:00\n",
      "Downloading urllib3-2.1.0-py3-none-any.whl (104 kB)\n",
      "   ---------------------------------------- 0.0/104.6 kB ? eta -:--:--\n",
      "   ---------------------------------------- 104.6/104.6 kB 5.9 MB/s eta 0:00:00\n",
      "Installing collected packages: urllib3, python-dotenv, idna, charset-normalizer, certifi, requests\n",
      "Successfully installed certifi-2023.7.22 charset-normalizer-3.3.2 idna-3.4 python-dotenv-1.0.0 requests-2.31.0 urllib3-2.1.0\n",
      "Note: you may need to restart the kernel to use updated packages.\n"
     ]
    },
    {
     "name": "stderr",
     "output_type": "stream",
     "text": [
      "\n",
      "[notice] A new release of pip is available: 23.2.1 -> 23.3.1\n",
      "[notice] To update, run: python.exe -m pip install --upgrade pip\n"
     ]
    }
   ],
   "source": [
    "%pip install -r credenciais/requirements.txt"
   ]
  },
  {
   "cell_type": "markdown",
   "metadata": {},
   "source": [
    "##### Realização de imports e carregamento de variáveis ambiente\n",
    "\n",
    "##### **Importante**: Preencha o arquivo .env e em seguida recarregue o ambiente\n",
    "- No VS Code, isso pode ser feito apertando CTRL + Shift + P (Windows / Linux) / CMD + SHIFT + P (Mac) e utilizar a opção (Reload Window / Recarregar janela)"
   ]
  },
  {
   "cell_type": "code",
   "execution_count": 2,
   "metadata": {},
   "outputs": [
    {
     "data": {
      "text/plain": [
       "True"
      ]
     },
     "execution_count": 2,
     "metadata": {},
     "output_type": "execute_result"
    }
   ],
   "source": [
    "from dotenv import load_dotenv\n",
    "from datetime import datetime\n",
    "\n",
    "import sys\n",
    "import os\n",
    "import requests\n",
    "import json\n",
    "import pandas as pd\n",
    "\n",
    "env_file_path = os.path.join('credenciais', '.env')\n",
    "\n",
    "load_dotenv(dotenv_path=env_file_path)"
   ]
  },
  {
   "cell_type": "markdown",
   "metadata": {},
   "source": [
    "##### Tratamento de erros\n",
    "\n",
    "##### O tratamento de erros é realizado de acordo com a variável de ambiente **RUNNING_ENV**"
   ]
  },
  {
   "cell_type": "code",
   "execution_count": 3,
   "metadata": {},
   "outputs": [],
   "source": [
    "class AppError(Exception):\n",
    "  def __init__(self, message):\n",
    "    self.message = message\n",
    "\n",
    "def handleErrors(error_message):\n",
    "  running_environment = os.environ['RUNNING_ENV']\n",
    "  if running_environment.lower() == 'notebook':\n",
    "    raise AppError(error_message)\n",
    "  else:\n",
    "    print(error_message)\n",
    "    sys.exit(1)"
   ]
  },
  {
   "cell_type": "markdown",
   "metadata": {},
   "source": [
    "##### Função que realiza consulta na API\n",
    "\n",
    "Link da documentação: https://currencybeacon.com/api-documentation\n",
    "\n",
    "Descrição e uso das variáveis internas da função:\n",
    "- base: Moeda que é usada para classificação - Os valores para a variável base. (linha 3) estão disponíveis em: https://currencybeacon.com/supported-currencies\n",
    "- start_date: Data inicial para busca de dados históricos.\n",
    "- end_date: Data final para busca de dados históricos. Atualmente está sendo preenchida com a data de execução do script\n",
    "- API_KEY: Disponibilizada após a criação de conta na API e utilizada na consulta aos dados."
   ]
  },
  {
   "cell_type": "code",
   "execution_count": 4,
   "metadata": {},
   "outputs": [],
   "source": [
    "def get_api_data():\n",
    "  API_BASE_URL = 'https://api.currencybeacon.com/v1'\n",
    "  base = 'BRL'\n",
    "  start_date = '2023-11-01' # Data de início para dados históricos\n",
    "  end_date =   str(datetime.now().date()) # Data de fim para dados históricos\n",
    "  API_KEY = os.environ['API_KEY']\n",
    "  response = None\n",
    "\n",
    "  request_url = f'{API_BASE_URL}/timeseries?base={base}&start_date={start_date}&end_date={end_date}&api_key={API_KEY}'\n",
    "  response = requests.get(request_url)\n",
    "  \n",
    "  if not response.status_code == 200:\n",
    "    handleErrors('Falha ao buscar dados da API')\n",
    "  return response.json()"
   ]
  },
  {
   "cell_type": "markdown",
   "metadata": {},
   "source": [
    "##### Cria um arquivo **data.json** dentro da pasta **dados** e salva os dados da resposta da API (em caso de sucesso)."
   ]
  },
  {
   "cell_type": "code",
   "execution_count": 5,
   "metadata": {},
   "outputs": [],
   "source": [
    "def save_json_file(data):\n",
    "  try:\n",
    "    data_to_save = data['response']\n",
    "\n",
    "    with open('dados/data.json', 'w', encoding='utf-8') as file:\n",
    "      json.dump(data_to_save, file, ensure_ascii=False, indent=2)\n",
    "  except:\n",
    "    handleErrors('Falha ao salvar arquivo json')"
   ]
  },
  {
   "cell_type": "markdown",
   "metadata": {},
   "source": [
    "##### Dado um arquivo JSON, a função irá ler o arquivo e retornar os dados."
   ]
  },
  {
   "cell_type": "code",
   "execution_count": 6,
   "metadata": {},
   "outputs": [],
   "source": [
    "def get_data_from_json_file(json_filename):\n",
    "  try:\n",
    "    with open(json_filename, 'r', encoding='utf-8') as json_file:\n",
    "      json_data = json.load(json_file)\n",
    "  \n",
    "    return json_data\n",
    "  except Exception:\n",
    "    handleErrors(f'Falha ao ler dados de arquivo {json_filename}')"
   ]
  },
  {
   "cell_type": "markdown",
   "metadata": {},
   "source": [
    "A função realiza os seguintes passos:<br>\n",
    "1 - Verifica se o arquivo **data.json** existe.<br>\n",
    "2 - Caso o arquivo não exista, será realizada uma chamada para API e a criação do arquivo **data.json**.<br>\n",
    "3- Caso o arquivo exista, a função irá ler os dados do arquivo ao invés de buscar na API, para assim economizar chamadas realizadas a API, dado que existe um limite. "
   ]
  },
  {
   "cell_type": "code",
   "execution_count": 7,
   "metadata": {},
   "outputs": [],
   "source": [
    "data_file = f'{os.getcwd()}\\\\dados\\\\data.json'\n",
    "\n",
    "data_file_exists = os.path.exists(data_file)\n",
    "data = None\n",
    "\n",
    "if data_file_exists is False:\n",
    "  data = get_api_data()\n",
    "  save_json_file(data)\n",
    "  data = get_data_from_json_file('dados\\\\data.json')\n",
    "else:\n",
    "  data = get_data_from_json_file('dados\\\\data.json')"
   ]
  },
  {
   "cell_type": "markdown",
   "metadata": {},
   "source": [
    "Início do tratamento dos dados. Abaixo são realizadas as seguintes etapas:<br>\n",
    "1 - Geração de um dataframe com os dados obtidos.<br>\n",
    "2 - Converter a coluna index em uma coluna comum com as moedas.<br>\n",
    "3 - Fazer um pivot, transformando as colunas de datas em linhas.<br>"
   ]
  },
  {
   "cell_type": "code",
   "execution_count": 8,
   "metadata": {},
   "outputs": [],
   "source": [
    "df = pd.DataFrame(data)\n",
    "\n",
    "df.index.name = 'moeda'\n",
    "df = df.reset_index()\n",
    "\n",
    "df_cotacoes = pd.melt(df, id_vars=['moeda'], var_name='data', value_name='valor')"
   ]
  },
  {
   "cell_type": "markdown",
   "metadata": {},
   "source": [
    "Leitura do arquivo JSON que contém as descrições das moedas."
   ]
  },
  {
   "cell_type": "code",
   "execution_count": 9,
   "metadata": {},
   "outputs": [],
   "source": [
    "currency_descriptions = get_data_from_json_file('dados/data_descricoes.json')"
   ]
  },
  {
   "cell_type": "markdown",
   "metadata": {},
   "source": [
    "Manipulação dos dados das descrições das moedas. São realizadas as seguintes etapas:<br>\n",
    "1 - Carregar as informações das descrições das moedas, a partir dos dados lidos do JSON contendo as descrições.<br>\n",
    "2 - Fazer o pivot das colunas."
   ]
  },
  {
   "cell_type": "code",
   "execution_count": 10,
   "metadata": {},
   "outputs": [],
   "source": [
    "df_moedas = pd.DataFrame(currency_descriptions,index=[0])\n",
    "\n",
    "df_moedas_descricoes = df_moedas.melt(var_name='moeda', value_name='descricao')"
   ]
  },
  {
   "cell_type": "markdown",
   "metadata": {},
   "source": [
    "Realização do merge (junção) entre as tabelas de cotações e descrições, para adicionar a coluna de descrições à tabela de cotações.<br>\n",
    "Substituição de (.) por (,) para evitar problemas de exibição de casas decimais"
   ]
  },
  {
   "cell_type": "code",
   "execution_count": 14,
   "metadata": {},
   "outputs": [],
   "source": [
    "df_resultado = pd.merge(df_cotacoes, df_moedas_descricoes, on='moeda', how='left')\n",
    "df_resultado['valor'] = df_resultado['valor'].astype(str).str.replace('.', ',')"
   ]
  },
  {
   "cell_type": "markdown",
   "metadata": {},
   "source": [
    "Exportando os dados gerados e tratados para um arquivo csv"
   ]
  },
  {
   "cell_type": "code",
   "execution_count": 12,
   "metadata": {},
   "outputs": [],
   "source": [
    "try:\n",
    "  df_resultado.to_csv('dados\\\\df_cotacoes.csv', index=False)\n",
    "except Exception:\n",
    "  handleErrors('Falha ao gerar arquivo csv')"
   ]
  }
 ],
 "metadata": {
  "kernelspec": {
   "display_name": "env",
   "language": "python",
   "name": "python3"
  },
  "language_info": {
   "codemirror_mode": {
    "name": "ipython",
    "version": 3
   },
   "file_extension": ".py",
   "mimetype": "text/x-python",
   "name": "python",
   "nbconvert_exporter": "python",
   "pygments_lexer": "ipython3",
   "version": "3.12.0"
  }
 },
 "nbformat": 4,
 "nbformat_minor": 2
}
